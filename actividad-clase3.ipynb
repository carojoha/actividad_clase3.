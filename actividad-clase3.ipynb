{
 "cells": [
  {
   "cell_type": "markdown",
   "metadata": {},
   "source": [
    "#\tEjercicios de Datos Complejos\n",
    "## 1.\tDatos Simples\n",
    "###\tCrear una lista de nombres de ciudades."
   ]
  },
  {
   "cell_type": "code",
   "execution_count": 1,
   "metadata": {},
   "outputs": [
    {
     "name": "stdout",
     "output_type": "stream",
     "text": [
      "['ushuaia', 'salta', 'cordoba']\n"
     ]
    }
   ],
   "source": [
    "ciudades=[\"ushuaia\",\"salta\",\"cordoba\"]\n",
    "print(ciudades)\n"
   ]
  },
  {
   "cell_type": "markdown",
   "metadata": {},
   "source": [
    "#\tEjercicios de Datos Complejos\n",
    "## 1.\tDatos Simples\n",
    "###\tCrear un diccionario con información de empleados (nombre, cargo, salario)."
   ]
  },
  {
   "cell_type": "code",
   "execution_count": 3,
   "metadata": {},
   "outputs": [
    {
     "name": "stdout",
     "output_type": "stream",
     "text": [
      "Empleado 1:\n",
      "Nombre: Juan\n",
      "Cargo: Gerente\n",
      "Salario: $150000\n",
      "\n",
      "Empleado 2:\n",
      "Nombre: María\n",
      "Cargo: Analista\n",
      "Salario: $135000\n",
      "\n",
      "Empleado 3:\n",
      "Nombre: Pedro\n",
      "Cargo: Asistente\n",
      "Salario: $125000\n",
      "\n"
     ]
    }
   ],
   "source": [
    "empleados = {\n",
    "    1: {\"nombre\": \"Juan\", \"cargo\": \"Gerente\", \"salario\": 150000},\n",
    "    2: {\"nombre\": \"María\", \"cargo\": \"Analista\", \"salario\": 135000},\n",
    "    3: {\"nombre\": \"Pedro\", \"cargo\": \"Asistente\", \"salario\": 125000}\n",
    "}\n",
    "for empleado_id, info in empleados.items():\n",
    "    print(f\"Empleado {empleado_id}:\")\n",
    "    print(f\"Nombre: {info['nombre']}\")\n",
    "    print(f\"Cargo: {info['cargo']}\")\n",
    "    print(f\"Salario: ${info['salario']}\\n\")"
   ]
  },
  {
   "cell_type": "markdown",
   "metadata": {},
   "source": [
    "#\tEjercicios de Datos Complejos\n",
    "## 1.\tDatos Simples\n",
    "###\tMostrar cómo acceder a un elemento específico en una lista y en un diccionario"
   ]
  },
  {
   "cell_type": "code",
   "execution_count": 5,
   "metadata": {},
   "outputs": [
    {
     "name": "stdout",
     "output_type": "stream",
     "text": [
      "El tercer elemento de la lista es: 31\n",
      "El salario del empleado es: 150300\n"
     ]
    }
   ],
   "source": [
    "numeros = [10, 23, 31, 40, 5]\n",
    "elemento = numeros[2]\n",
    "print(\"El tercer elemento de la lista es:\", elemento)\n",
    "\n",
    "\n",
    "empleado = {\n",
    "    \"nombre\": \"Juan\",\n",
    "    \"cargo\": \"Gerente\",\n",
    "    \"salario\": 150300\n",
    "}\n",
    "salario = empleado[\"salario\"]\n",
    "\n",
    "print(\"El salario del empleado es:\", salario)"
   ]
  },
  {
   "cell_type": "markdown",
   "metadata": {},
   "source": [
    "# Manipulación de Listas y Métodos\n",
    "\n",
    "## Crea una lista inicial de números enteros.\n",
    "\n",
    "### Utiliza el método .append() para agregar un número al final de la lista."
   ]
  },
  {
   "cell_type": "code",
   "execution_count": 6,
   "metadata": {},
   "outputs": [
    {
     "name": "stdout",
     "output_type": "stream",
     "text": [
      "Lista inicial de números: [1, 3, 5, 40]\n",
      "Lista con el número agregado: [1, 3, 5, 40, 6]\n"
     ]
    }
   ],
   "source": [
    "numeros=[1,3,5,40]\n",
    "print(\"Lista inicial de números:\", numeros)\n",
    "numeros.append(6)\n",
    "print(\"Lista con el número agregado:\", numeros)\n"
   ]
  },
  {
   "cell_type": "markdown",
   "metadata": {},
   "source": [
    "# Manipulación de Listas y Métodos\n",
    "## Crea una lista inicial de números enteros.\n",
    "## Utiliza el método .extend() para agregar múltiples elementos a la lista."
   ]
  },
  {
   "cell_type": "code",
   "execution_count": 7,
   "metadata": {},
   "outputs": [
    {
     "name": "stdout",
     "output_type": "stream",
     "text": [
      "Lista inicial de números: [1, 2, 3, 4, 5]\n",
      "Lista con elementos agregados: [1, 2, 3, 4, 5, 6, 7, 8]\n"
     ]
    }
   ],
   "source": [
    "numeros = [1, 2, 3, 4, 5]\n",
    "print(\"Lista inicial de números:\", numeros)\n",
    "numeros.extend([6, 7, 8])\n",
    "print(\"Lista con elementos agregados:\", numeros)"
   ]
  },
  {
   "cell_type": "markdown",
   "metadata": {},
   "source": [
    "# Manipulación de Listas y Métodos\n",
    "## Crea una lista inicial de números enteros.\n",
    "## Utiliza el método .insert() para insertar un número en una posición específica de la lista."
   ]
  },
  {
   "cell_type": "code",
   "execution_count": 8,
   "metadata": {},
   "outputs": [
    {
     "name": "stdout",
     "output_type": "stream",
     "text": [
      "Lista inicial de números: [1, 2, 3, 4, 5]\n",
      "Lista con el número insertado: [1, 2, 10, 3, 4, 5]\n"
     ]
    }
   ],
   "source": [
    "numeros = [1, 2, 3, 4, 5]\n",
    "print(\"Lista inicial de números:\", numeros)\n",
    "numeros.insert(2, 10)\n",
    "print(\"Lista con el número insertado:\", numeros)"
   ]
  },
  {
   "cell_type": "markdown",
   "metadata": {},
   "source": [
    "# Manipulación de Listas y Métodos\n",
    "## Crea una lista inicial de números enteros.\n",
    "### Muestra cómo utilizar el método .sort() para ordenar la lista de números de forma ascendente."
   ]
  },
  {
   "cell_type": "code",
   "execution_count": 9,
   "metadata": {},
   "outputs": [
    {
     "name": "stdout",
     "output_type": "stream",
     "text": [
      "Lista inicial de números: [52, 42, 81, 11, 23]\n",
      "Lista ascendente: [11, 23, 42, 52, 81]\n"
     ]
    }
   ],
   "source": [
    "numeros = [52, 42, 81, 11, 23]\n",
    "print(\"Lista inicial de números:\", numeros)\n",
    "numeros.sort()\n",
    "print(\"Lista ascendente:\", numeros)"
   ]
  },
  {
   "cell_type": "markdown",
   "metadata": {},
   "source": [
    "# Manipulación de Diccionarios y Métodos:\n",
    "## Crea un diccionario con información de productos (nombre del producto, precio, cantidad en stock)."
   ]
  },
  {
   "cell_type": "code",
   "execution_count": 13,
   "metadata": {},
   "outputs": [
    {
     "name": "stdout",
     "output_type": "stream",
     "text": [
      "Información de productos:\n",
      "Camisa: Precio $96599, Stock: 50\n",
      "Pantalón: Precio $124045, Stock: 30\n",
      "Zapatos: Precio $149099, Stock: 20\n"
     ]
    }
   ],
   "source": [
    "productos = {\n",
    "    \"Campera\": {\"precio\": 96599, \"cantidad_en_stock\": 50},\n",
    "    \"Pantalón\": {\"precio\": 124045, \"cantidad_en_stock\": 30},\n",
    "    \"Zapatilla\": {\"precio\": 149099, \"cantidad_en_stock\": 20}\n",
    "}\n",
    "\n",
    "print(\"Información de productos:\")\n",
    "for producto, info in productos.items():\n",
    "    print(f\"{producto}: Precio ${info['precio']}, Stock: {info['cantidad_en_stock']}\")"
   ]
  },
  {
   "cell_type": "markdown",
   "metadata": {},
   "source": [
    "## Utiliza el método .keys() para obtener una lista de las llaves (nombres de productos) en el diccionario.\n"
   ]
  },
  {
   "cell_type": "code",
   "execution_count": 14,
   "metadata": {},
   "outputs": [
    {
     "name": "stdout",
     "output_type": "stream",
     "text": [
      "Lista de nombres de productos: ['Camisa', 'Pantalón', 'Zapatos']\n"
     ]
    }
   ],
   "source": [
    "productos = {\n",
    "    \"Campera\": {\"precio\": 98599, \"cantidad_en_stock\": 50},\n",
    "    \"Pantalón\": {\"precio\": 123999, \"cantidad_en_stock\": 30},\n",
    "    \"Zapatilla\": {\"precio\": 149899, \"cantidad_en_stock\": 20}\n",
    "}\n",
    "nombres_productos = list(productos.keys())\n",
    "\n",
    "print(\"Lista de nombres de productos:\", nombres_productos)"
   ]
  },
  {
   "cell_type": "markdown",
   "metadata": {},
   "source": [
    "## Utiliza el método .values() para obtener una lista de los valores (precios y cantidades) en el diccionario."
   ]
  },
  {
   "cell_type": "code",
   "execution_count": 18,
   "metadata": {},
   "outputs": [
    {
     "name": "stdout",
     "output_type": "stream",
     "text": [
      "Lista de valores de productos: [{'precio': 250999, 'cantidad_en_stock': 50}, {'precio': 139099, 'cantidad_en_stock': 30}, {'precio': 249999, 'cantidad_en_stock': 20}]\n"
     ]
    }
   ],
   "source": [
    "productos = {\n",
    "    \"Campera\": {\"precio\": 250999, \"cantidad_en_stock\": 50},\n",
    "    \"Pantalón\": {\"precio\": 139099, \"cantidad_en_stock\": 30},\n",
    "    \"Zapatilla\": {\"precio\": 249999, \"cantidad_en_stock\": 20}\n",
    "}\n",
    "valores_productos = list(productos.values())\n",
    "print(\"Lista de valores de productos:\", valores_productos)"
   ]
  },
  {
   "cell_type": "markdown",
   "metadata": {},
   "source": [
    "## Utiliza el método .items() para obtener una lista de tuplas con pares clave-valor del diccionario."
   ]
  },
  {
   "cell_type": "code",
   "execution_count": 20,
   "metadata": {},
   "outputs": [
    {
     "name": "stdout",
     "output_type": "stream",
     "text": [
      "Lista de tuplas con pares clave-valor del diccionario:\n",
      "[('Campera', {'precio': 255399, 'cantidad_en_stock': 50}), ('Pantalón', {'precio': 393399, 'cantidad_en_stock': 30}), ('Zapatilla', {'precio': 493299, 'cantidad_en_stock': 20})]\n"
     ]
    }
   ],
   "source": [
    "productos = {\n",
    "    \"Campera\": {\"precio\": 255399, \"cantidad_en_stock\": 50},\n",
    "    \"Pantalón\": {\"precio\": 393399, \"cantidad_en_stock\": 30},\n",
    "    \"Zapatilla\": {\"precio\": 493299, \"cantidad_en_stock\": 20}\n",
    "}\n",
    "pares_clave_valor = list(productos.items())\n",
    "print(\"Lista de tuplas con pares clave-valor del diccionario:\")\n",
    "print(pares_clave_valor)"
   ]
  },
  {
   "cell_type": "markdown",
   "metadata": {},
   "source": [
    "## Muestra cómo utilizar el método .get() para obtener el precio de un producto específico del diccionario"
   ]
  },
  {
   "cell_type": "code",
   "execution_count": 22,
   "metadata": {},
   "outputs": [
    {
     "name": "stdout",
     "output_type": "stream",
     "text": [
      "Precio de Camisa: Producto no encontrado\n"
     ]
    }
   ],
   "source": [
    "productos = {\n",
    "    \"Campera\": {\"precio\": 252999, \"cantidad_en_stock\": 50},\n",
    "    \"Pantalón\": {\"precio\": 393299, \"cantidad_en_stock\": 30},\n",
    "    \"Zapatilla\": {\"precio\": 490699, \"cantidad_en_stock\": 20}\n",
    "}\n",
    "producto = \"Camisa\"\n",
    "precio = productos.get(producto, \"Producto no encontrado\") \n",
    "print(f\"Precio de {producto}: {precio}\")"
   ]
  }
 ],
 "metadata": {
  "kernelspec": {
   "display_name": "Python 3",
   "language": "python",
   "name": "python3"
  },
  "language_info": {
   "codemirror_mode": {
    "name": "ipython",
    "version": 3
   },
   "file_extension": ".py",
   "mimetype": "text/x-python",
   "name": "python",
   "nbconvert_exporter": "python",
   "pygments_lexer": "ipython3",
   "version": "3.12.0"
  }
 },
 "nbformat": 4,
 "nbformat_minor": 2
}
