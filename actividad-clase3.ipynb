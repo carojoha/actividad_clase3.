{
 "cells": [
  {
   "cell_type": "markdown",
   "metadata": {},
   "source": [
    "#\tEjercicios de Datos Complejos\n",
    "## 1.\tDatos Simples\n",
    "###\tCrear una lista de nombres de ciudades."
   ]
  },
  {
   "cell_type": "code",
   "execution_count": 1,
   "metadata": {},
   "outputs": [
    {
     "name": "stdout",
     "output_type": "stream",
     "text": [
      "['ushuaia', 'salta', 'cordoba']\n"
     ]
    }
   ],
   "source": [
    "ciudades=[\"ushuaia\",\"salta\",\"cordoba\"]\n",
    "print(ciudades)\n"
   ]
  },
  {
   "cell_type": "markdown",
   "metadata": {},
   "source": [
    "#\tEjercicios de Datos Complejos\n",
    "## 1.\tDatos Simples\n",
    "###\tCrear un diccionario con información de empleados (nombre, cargo, salario)."
   ]
  },
  {
   "cell_type": "code",
   "execution_count": 3,
   "metadata": {},
   "outputs": [
    {
     "name": "stdout",
     "output_type": "stream",
     "text": [
      "Empleado 1:\n",
      "Nombre: Juan\n",
      "Cargo: Gerente\n",
      "Salario: $150000\n",
      "\n",
      "Empleado 2:\n",
      "Nombre: María\n",
      "Cargo: Analista\n",
      "Salario: $135000\n",
      "\n",
      "Empleado 3:\n",
      "Nombre: Pedro\n",
      "Cargo: Asistente\n",
      "Salario: $125000\n",
      "\n"
     ]
    }
   ],
   "source": [
    "empleados = {\n",
    "    1: {\"nombre\": \"Juan\", \"cargo\": \"Gerente\", \"salario\": 150000},\n",
    "    2: {\"nombre\": \"María\", \"cargo\": \"Analista\", \"salario\": 135000},\n",
    "    3: {\"nombre\": \"Pedro\", \"cargo\": \"Asistente\", \"salario\": 125000}\n",
    "}\n",
    "for empleado_id, info in empleados.items():\n",
    "    print(f\"Empleado {empleado_id}:\")\n",
    "    print(f\"Nombre: {info['nombre']}\")\n",
    "    print(f\"Cargo: {info['cargo']}\")\n",
    "    print(f\"Salario: ${info['salario']}\\n\")"
   ]
  }
 ],
 "metadata": {
  "kernelspec": {
   "display_name": "Python 3",
   "language": "python",
   "name": "python3"
  },
  "language_info": {
   "codemirror_mode": {
    "name": "ipython",
    "version": 3
   },
   "file_extension": ".py",
   "mimetype": "text/x-python",
   "name": "python",
   "nbconvert_exporter": "python",
   "pygments_lexer": "ipython3",
   "version": "3.12.0"
  }
 },
 "nbformat": 4,
 "nbformat_minor": 2
}
